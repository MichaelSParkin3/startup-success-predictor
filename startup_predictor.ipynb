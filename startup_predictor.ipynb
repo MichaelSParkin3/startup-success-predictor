{
 "cells": [
  {
   "cell_type": "code",
   "execution_count": 9,
   "id": "7194ba6a",
   "metadata": {},
   "outputs": [],
   "source": [
    "import pandas as pd;\n",
    "import seaborn as sns;"
   ]
  },
  {
   "cell_type": "code",
   "execution_count": 5,
   "id": "63b5a5ce",
   "metadata": {},
   "outputs": [],
   "source": [
    "df = pd.read_csv('startup_data.csv')"
   ]
  },
  {
   "cell_type": "code",
   "execution_count": 6,
   "id": "07086838",
   "metadata": {},
   "outputs": [
    {
     "data": {
      "text/html": [
       "<div>\n",
       "<style scoped>\n",
       "    .dataframe tbody tr th:only-of-type {\n",
       "        vertical-align: middle;\n",
       "    }\n",
       "\n",
       "    .dataframe tbody tr th {\n",
       "        vertical-align: top;\n",
       "    }\n",
       "\n",
       "    .dataframe thead th {\n",
       "        text-align: right;\n",
       "    }\n",
       "</style>\n",
       "<table border=\"1\" class=\"dataframe\">\n",
       "  <thead>\n",
       "    <tr style=\"text-align: right;\">\n",
       "      <th></th>\n",
       "      <th>Startup Name</th>\n",
       "      <th>Industry</th>\n",
       "      <th>Funding Rounds</th>\n",
       "      <th>Funding Amount (M USD)</th>\n",
       "      <th>Valuation (M USD)</th>\n",
       "      <th>Revenue (M USD)</th>\n",
       "      <th>Employees</th>\n",
       "      <th>Market Share (%)</th>\n",
       "      <th>Profitable</th>\n",
       "      <th>Year Founded</th>\n",
       "      <th>Region</th>\n",
       "      <th>Exit Status</th>\n",
       "    </tr>\n",
       "  </thead>\n",
       "  <tbody>\n",
       "    <tr>\n",
       "      <th>0</th>\n",
       "      <td>Startup_1</td>\n",
       "      <td>IoT</td>\n",
       "      <td>1</td>\n",
       "      <td>101.09</td>\n",
       "      <td>844.75</td>\n",
       "      <td>67.87</td>\n",
       "      <td>1468</td>\n",
       "      <td>5.20</td>\n",
       "      <td>0</td>\n",
       "      <td>2006</td>\n",
       "      <td>Europe</td>\n",
       "      <td>Private</td>\n",
       "    </tr>\n",
       "    <tr>\n",
       "      <th>1</th>\n",
       "      <td>Startup_2</td>\n",
       "      <td>EdTech</td>\n",
       "      <td>1</td>\n",
       "      <td>247.62</td>\n",
       "      <td>3310.83</td>\n",
       "      <td>75.65</td>\n",
       "      <td>3280</td>\n",
       "      <td>8.10</td>\n",
       "      <td>1</td>\n",
       "      <td>2003</td>\n",
       "      <td>South America</td>\n",
       "      <td>Private</td>\n",
       "    </tr>\n",
       "    <tr>\n",
       "      <th>2</th>\n",
       "      <td>Startup_3</td>\n",
       "      <td>EdTech</td>\n",
       "      <td>1</td>\n",
       "      <td>109.24</td>\n",
       "      <td>1059.37</td>\n",
       "      <td>84.21</td>\n",
       "      <td>4933</td>\n",
       "      <td>2.61</td>\n",
       "      <td>1</td>\n",
       "      <td>1995</td>\n",
       "      <td>South America</td>\n",
       "      <td>Private</td>\n",
       "    </tr>\n",
       "    <tr>\n",
       "      <th>3</th>\n",
       "      <td>Startup_4</td>\n",
       "      <td>Gaming</td>\n",
       "      <td>5</td>\n",
       "      <td>10.75</td>\n",
       "      <td>101.90</td>\n",
       "      <td>47.08</td>\n",
       "      <td>1059</td>\n",
       "      <td>2.53</td>\n",
       "      <td>0</td>\n",
       "      <td>2003</td>\n",
       "      <td>South America</td>\n",
       "      <td>Private</td>\n",
       "    </tr>\n",
       "    <tr>\n",
       "      <th>4</th>\n",
       "      <td>Startup_5</td>\n",
       "      <td>IoT</td>\n",
       "      <td>4</td>\n",
       "      <td>249.28</td>\n",
       "      <td>850.11</td>\n",
       "      <td>50.25</td>\n",
       "      <td>1905</td>\n",
       "      <td>4.09</td>\n",
       "      <td>0</td>\n",
       "      <td>1997</td>\n",
       "      <td>Europe</td>\n",
       "      <td>Acquired</td>\n",
       "    </tr>\n",
       "  </tbody>\n",
       "</table>\n",
       "</div>"
      ],
      "text/plain": [
       "  Startup Name Industry  Funding Rounds  Funding Amount (M USD)  \\\n",
       "0    Startup_1      IoT               1                  101.09   \n",
       "1    Startup_2   EdTech               1                  247.62   \n",
       "2    Startup_3   EdTech               1                  109.24   \n",
       "3    Startup_4   Gaming               5                   10.75   \n",
       "4    Startup_5      IoT               4                  249.28   \n",
       "\n",
       "   Valuation (M USD)  Revenue (M USD)  Employees  Market Share (%)  \\\n",
       "0             844.75            67.87       1468              5.20   \n",
       "1            3310.83            75.65       3280              8.10   \n",
       "2            1059.37            84.21       4933              2.61   \n",
       "3             101.90            47.08       1059              2.53   \n",
       "4             850.11            50.25       1905              4.09   \n",
       "\n",
       "   Profitable  Year Founded         Region Exit Status  \n",
       "0           0          2006         Europe     Private  \n",
       "1           1          2003  South America     Private  \n",
       "2           1          1995  South America     Private  \n",
       "3           0          2003  South America     Private  \n",
       "4           0          1997         Europe    Acquired  "
      ]
     },
     "execution_count": 6,
     "metadata": {},
     "output_type": "execute_result"
    }
   ],
   "source": [
    "df.head()"
   ]
  },
  {
   "cell_type": "code",
   "execution_count": 7,
   "id": "dfa4fa70",
   "metadata": {},
   "outputs": [
    {
     "name": "stdout",
     "output_type": "stream",
     "text": [
      "<class 'pandas.core.frame.DataFrame'>\n",
      "RangeIndex: 500 entries, 0 to 499\n",
      "Data columns (total 12 columns):\n",
      " #   Column                  Non-Null Count  Dtype  \n",
      "---  ------                  --------------  -----  \n",
      " 0   Startup Name            500 non-null    object \n",
      " 1   Industry                500 non-null    object \n",
      " 2   Funding Rounds          500 non-null    int64  \n",
      " 3   Funding Amount (M USD)  500 non-null    float64\n",
      " 4   Valuation (M USD)       500 non-null    float64\n",
      " 5   Revenue (M USD)         500 non-null    float64\n",
      " 6   Employees               500 non-null    int64  \n",
      " 7   Market Share (%)        500 non-null    float64\n",
      " 8   Profitable              500 non-null    int64  \n",
      " 9   Year Founded            500 non-null    int64  \n",
      " 10  Region                  500 non-null    object \n",
      " 11  Exit Status             500 non-null    object \n",
      "dtypes: float64(4), int64(4), object(4)\n",
      "memory usage: 47.0+ KB\n"
     ]
    }
   ],
   "source": [
    "df.info()"
   ]
  },
  {
   "cell_type": "code",
   "execution_count": 8,
   "id": "b941daac",
   "metadata": {},
   "outputs": [
    {
     "data": {
      "text/html": [
       "<div>\n",
       "<style scoped>\n",
       "    .dataframe tbody tr th:only-of-type {\n",
       "        vertical-align: middle;\n",
       "    }\n",
       "\n",
       "    .dataframe tbody tr th {\n",
       "        vertical-align: top;\n",
       "    }\n",
       "\n",
       "    .dataframe thead th {\n",
       "        text-align: right;\n",
       "    }\n",
       "</style>\n",
       "<table border=\"1\" class=\"dataframe\">\n",
       "  <thead>\n",
       "    <tr style=\"text-align: right;\">\n",
       "      <th></th>\n",
       "      <th>Funding Rounds</th>\n",
       "      <th>Funding Amount (M USD)</th>\n",
       "      <th>Valuation (M USD)</th>\n",
       "      <th>Revenue (M USD)</th>\n",
       "      <th>Employees</th>\n",
       "      <th>Market Share (%)</th>\n",
       "      <th>Profitable</th>\n",
       "      <th>Year Founded</th>\n",
       "    </tr>\n",
       "  </thead>\n",
       "  <tbody>\n",
       "    <tr>\n",
       "      <th>count</th>\n",
       "      <td>500.000000</td>\n",
       "      <td>500.000000</td>\n",
       "      <td>500.000000</td>\n",
       "      <td>500.000000</td>\n",
       "      <td>500.000000</td>\n",
       "      <td>500.000000</td>\n",
       "      <td>500.000000</td>\n",
       "      <td>500.000000</td>\n",
       "    </tr>\n",
       "    <tr>\n",
       "      <th>mean</th>\n",
       "      <td>2.958000</td>\n",
       "      <td>152.656760</td>\n",
       "      <td>1371.809180</td>\n",
       "      <td>49.321740</td>\n",
       "      <td>2532.092000</td>\n",
       "      <td>5.092940</td>\n",
       "      <td>0.432000</td>\n",
       "      <td>2006.044000</td>\n",
       "    </tr>\n",
       "    <tr>\n",
       "      <th>std</th>\n",
       "      <td>1.440968</td>\n",
       "      <td>86.683711</td>\n",
       "      <td>978.226579</td>\n",
       "      <td>29.267605</td>\n",
       "      <td>1385.434921</td>\n",
       "      <td>2.807646</td>\n",
       "      <td>0.495851</td>\n",
       "      <td>9.347128</td>\n",
       "    </tr>\n",
       "    <tr>\n",
       "      <th>min</th>\n",
       "      <td>1.000000</td>\n",
       "      <td>0.570000</td>\n",
       "      <td>2.430000</td>\n",
       "      <td>0.120000</td>\n",
       "      <td>12.000000</td>\n",
       "      <td>0.100000</td>\n",
       "      <td>0.000000</td>\n",
       "      <td>1990.000000</td>\n",
       "    </tr>\n",
       "    <tr>\n",
       "      <th>25%</th>\n",
       "      <td>2.000000</td>\n",
       "      <td>79.212500</td>\n",
       "      <td>557.027500</td>\n",
       "      <td>22.802500</td>\n",
       "      <td>1382.750000</td>\n",
       "      <td>2.760000</td>\n",
       "      <td>0.000000</td>\n",
       "      <td>1998.000000</td>\n",
       "    </tr>\n",
       "    <tr>\n",
       "      <th>50%</th>\n",
       "      <td>3.000000</td>\n",
       "      <td>156.005000</td>\n",
       "      <td>1222.580000</td>\n",
       "      <td>48.800000</td>\n",
       "      <td>2496.500000</td>\n",
       "      <td>5.135000</td>\n",
       "      <td>0.000000</td>\n",
       "      <td>2006.000000</td>\n",
       "    </tr>\n",
       "    <tr>\n",
       "      <th>75%</th>\n",
       "      <td>4.000000</td>\n",
       "      <td>226.450000</td>\n",
       "      <td>2052.085000</td>\n",
       "      <td>74.965000</td>\n",
       "      <td>3708.750000</td>\n",
       "      <td>7.552500</td>\n",
       "      <td>1.000000</td>\n",
       "      <td>2014.000000</td>\n",
       "    </tr>\n",
       "    <tr>\n",
       "      <th>max</th>\n",
       "      <td>5.000000</td>\n",
       "      <td>299.810000</td>\n",
       "      <td>4357.490000</td>\n",
       "      <td>99.710000</td>\n",
       "      <td>4984.000000</td>\n",
       "      <td>10.000000</td>\n",
       "      <td>1.000000</td>\n",
       "      <td>2022.000000</td>\n",
       "    </tr>\n",
       "  </tbody>\n",
       "</table>\n",
       "</div>"
      ],
      "text/plain": [
       "       Funding Rounds  Funding Amount (M USD)  Valuation (M USD)  \\\n",
       "count      500.000000              500.000000         500.000000   \n",
       "mean         2.958000              152.656760        1371.809180   \n",
       "std          1.440968               86.683711         978.226579   \n",
       "min          1.000000                0.570000           2.430000   \n",
       "25%          2.000000               79.212500         557.027500   \n",
       "50%          3.000000              156.005000        1222.580000   \n",
       "75%          4.000000              226.450000        2052.085000   \n",
       "max          5.000000              299.810000        4357.490000   \n",
       "\n",
       "       Revenue (M USD)    Employees  Market Share (%)  Profitable  \\\n",
       "count       500.000000   500.000000        500.000000  500.000000   \n",
       "mean         49.321740  2532.092000          5.092940    0.432000   \n",
       "std          29.267605  1385.434921          2.807646    0.495851   \n",
       "min           0.120000    12.000000          0.100000    0.000000   \n",
       "25%          22.802500  1382.750000          2.760000    0.000000   \n",
       "50%          48.800000  2496.500000          5.135000    0.000000   \n",
       "75%          74.965000  3708.750000          7.552500    1.000000   \n",
       "max          99.710000  4984.000000         10.000000    1.000000   \n",
       "\n",
       "       Year Founded  \n",
       "count    500.000000  \n",
       "mean    2006.044000  \n",
       "std        9.347128  \n",
       "min     1990.000000  \n",
       "25%     1998.000000  \n",
       "50%     2006.000000  \n",
       "75%     2014.000000  \n",
       "max     2022.000000  "
      ]
     },
     "execution_count": 8,
     "metadata": {},
     "output_type": "execute_result"
    }
   ],
   "source": [
    "df.describe()"
   ]
  },
  {
   "cell_type": "code",
   "execution_count": 16,
   "id": "eef07b32",
   "metadata": {},
   "outputs": [
    {
     "data": {
      "text/plain": [
       "<Axes: xlabel='Industry', ylabel='Profitable'>"
      ]
     },
     "execution_count": 16,
     "metadata": {},
     "output_type": "execute_result"
    },
    {
     "data": {
      "image/png": "[encoded data removed]",
      "text/plain": [
       "<Figure size 640x480 with 1 Axes>"
      ]
     },
     "metadata": {},
     "output_type": "display_data"
    }
   ],
   "source": [
    "#visualizations\n",
    "sns.barplot(x='Industry', y='Profitable', data=df)"
   ]
  },
  {
   "cell_type": "code",
   "execution_count": 21,
   "id": "d9af5c2d",
   "metadata": {},
   "outputs": [
    {
     "data": {
      "text/plain": [
       "<seaborn.axisgrid.FacetGrid at 0x17a561607f0>"
      ]
     },
     "execution_count": 21,
     "metadata": {},
     "output_type": "execute_result"
    },
    {
     "data": {
      "image/png": "[encoded data removed]",
      "text/plain": [
       "<Figure size 500x500 with 1 Axes>"
      ]
     },
     "metadata": {},
     "output_type": "display_data"
    }
   ],
   "source": [
    "sns.relplot(x='Employees', y='Revenue (M USD)', data=df)"
   ]
  },
  {
   "cell_type": "code",
   "execution_count": null,
   "id": "4f76754c",
   "metadata": {},
   "outputs": [],
   "source": []
  }
 ],
 "metadata": {
  "kernelspec": {
   "display_name": "venv (3.10.4)",
   "language": "python",
   "name": "python3"
  },
  "language_info": {
   "codemirror_mode": {
    "name": "ipython",
    "version": 3
   },
   "file_extension": ".py",
   "mimetype": "text/x-python",
   "name": "python",
   "nbconvert_exporter": "python",
   "pygments_lexer": "ipython3",
   "version": "3.10.4"
  }
 },
 "nbformat": 4,
 "nbformat_minor": 5
}
